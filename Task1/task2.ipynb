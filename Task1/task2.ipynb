{
  "nbformat": 4,
  "nbformat_minor": 0,
  "metadata": {
    "colab": {
      "provenance": []
    },
    "kernelspec": {
      "name": "python3",
      "display_name": "Python 3"
    },
    "language_info": {
      "name": "python"
    }
  },
  "cells": [
    {
      "cell_type": "code",
      "execution_count": 11,
      "metadata": {
        "id": "lK8iuV6AKeSc"
      },
      "outputs": [],
      "source": [
        "import pandas as pd\n",
        "import numpy as np\n",
        "from sklearn.model_selection import train_test_split\n",
        "from tensorflow.keras.models import Model\n",
        "from tensorflow.keras.layers import Input, Dense\n",
        "from tensorflow.keras.optimizers import Adam\n",
        "from google.colab import files\n",
        "import io"
      ]
    },
    {
      "cell_type": "code",
      "source": [
        "uploaded = files.upload()"
      ],
      "metadata": {
        "colab": {
          "base_uri": "https://localhost:8080/",
          "height": 107
        },
        "id": "EeICD6nTKwK_",
        "outputId": "53db7a42-db66-4afe-9785-88ad81c88802"
      },
      "execution_count": 12,
      "outputs": [
        {
          "output_type": "display_data",
          "data": {
            "text/plain": [
              "<IPython.core.display.HTML object>"
            ],
            "text/html": [
              "\n",
              "     <input type=\"file\" id=\"files-efb095a7-719d-4517-ae5b-240fd71dc476\" name=\"files[]\" multiple disabled\n",
              "        style=\"border:none\" />\n",
              "     <output id=\"result-efb095a7-719d-4517-ae5b-240fd71dc476\">\n",
              "      Upload widget is only available when the cell has been executed in the\n",
              "      current browser session. Please rerun this cell to enable.\n",
              "      </output>\n",
              "      <script>// Copyright 2017 Google LLC\n",
              "//\n",
              "// Licensed under the Apache License, Version 2.0 (the \"License\");\n",
              "// you may not use this file except in compliance with the License.\n",
              "// You may obtain a copy of the License at\n",
              "//\n",
              "//      http://www.apache.org/licenses/LICENSE-2.0\n",
              "//\n",
              "// Unless required by applicable law or agreed to in writing, software\n",
              "// distributed under the License is distributed on an \"AS IS\" BASIS,\n",
              "// WITHOUT WARRANTIES OR CONDITIONS OF ANY KIND, either express or implied.\n",
              "// See the License for the specific language governing permissions and\n",
              "// limitations under the License.\n",
              "\n",
              "/**\n",
              " * @fileoverview Helpers for google.colab Python module.\n",
              " */\n",
              "(function(scope) {\n",
              "function span(text, styleAttributes = {}) {\n",
              "  const element = document.createElement('span');\n",
              "  element.textContent = text;\n",
              "  for (const key of Object.keys(styleAttributes)) {\n",
              "    element.style[key] = styleAttributes[key];\n",
              "  }\n",
              "  return element;\n",
              "}\n",
              "\n",
              "// Max number of bytes which will be uploaded at a time.\n",
              "const MAX_PAYLOAD_SIZE = 100 * 1024;\n",
              "\n",
              "function _uploadFiles(inputId, outputId) {\n",
              "  const steps = uploadFilesStep(inputId, outputId);\n",
              "  const outputElement = document.getElementById(outputId);\n",
              "  // Cache steps on the outputElement to make it available for the next call\n",
              "  // to uploadFilesContinue from Python.\n",
              "  outputElement.steps = steps;\n",
              "\n",
              "  return _uploadFilesContinue(outputId);\n",
              "}\n",
              "\n",
              "// This is roughly an async generator (not supported in the browser yet),\n",
              "// where there are multiple asynchronous steps and the Python side is going\n",
              "// to poll for completion of each step.\n",
              "// This uses a Promise to block the python side on completion of each step,\n",
              "// then passes the result of the previous step as the input to the next step.\n",
              "function _uploadFilesContinue(outputId) {\n",
              "  const outputElement = document.getElementById(outputId);\n",
              "  const steps = outputElement.steps;\n",
              "\n",
              "  const next = steps.next(outputElement.lastPromiseValue);\n",
              "  return Promise.resolve(next.value.promise).then((value) => {\n",
              "    // Cache the last promise value to make it available to the next\n",
              "    // step of the generator.\n",
              "    outputElement.lastPromiseValue = value;\n",
              "    return next.value.response;\n",
              "  });\n",
              "}\n",
              "\n",
              "/**\n",
              " * Generator function which is called between each async step of the upload\n",
              " * process.\n",
              " * @param {string} inputId Element ID of the input file picker element.\n",
              " * @param {string} outputId Element ID of the output display.\n",
              " * @return {!Iterable<!Object>} Iterable of next steps.\n",
              " */\n",
              "function* uploadFilesStep(inputId, outputId) {\n",
              "  const inputElement = document.getElementById(inputId);\n",
              "  inputElement.disabled = false;\n",
              "\n",
              "  const outputElement = document.getElementById(outputId);\n",
              "  outputElement.innerHTML = '';\n",
              "\n",
              "  const pickedPromise = new Promise((resolve) => {\n",
              "    inputElement.addEventListener('change', (e) => {\n",
              "      resolve(e.target.files);\n",
              "    });\n",
              "  });\n",
              "\n",
              "  const cancel = document.createElement('button');\n",
              "  inputElement.parentElement.appendChild(cancel);\n",
              "  cancel.textContent = 'Cancel upload';\n",
              "  const cancelPromise = new Promise((resolve) => {\n",
              "    cancel.onclick = () => {\n",
              "      resolve(null);\n",
              "    };\n",
              "  });\n",
              "\n",
              "  // Wait for the user to pick the files.\n",
              "  const files = yield {\n",
              "    promise: Promise.race([pickedPromise, cancelPromise]),\n",
              "    response: {\n",
              "      action: 'starting',\n",
              "    }\n",
              "  };\n",
              "\n",
              "  cancel.remove();\n",
              "\n",
              "  // Disable the input element since further picks are not allowed.\n",
              "  inputElement.disabled = true;\n",
              "\n",
              "  if (!files) {\n",
              "    return {\n",
              "      response: {\n",
              "        action: 'complete',\n",
              "      }\n",
              "    };\n",
              "  }\n",
              "\n",
              "  for (const file of files) {\n",
              "    const li = document.createElement('li');\n",
              "    li.append(span(file.name, {fontWeight: 'bold'}));\n",
              "    li.append(span(\n",
              "        `(${file.type || 'n/a'}) - ${file.size} bytes, ` +\n",
              "        `last modified: ${\n",
              "            file.lastModifiedDate ? file.lastModifiedDate.toLocaleDateString() :\n",
              "                                    'n/a'} - `));\n",
              "    const percent = span('0% done');\n",
              "    li.appendChild(percent);\n",
              "\n",
              "    outputElement.appendChild(li);\n",
              "\n",
              "    const fileDataPromise = new Promise((resolve) => {\n",
              "      const reader = new FileReader();\n",
              "      reader.onload = (e) => {\n",
              "        resolve(e.target.result);\n",
              "      };\n",
              "      reader.readAsArrayBuffer(file);\n",
              "    });\n",
              "    // Wait for the data to be ready.\n",
              "    let fileData = yield {\n",
              "      promise: fileDataPromise,\n",
              "      response: {\n",
              "        action: 'continue',\n",
              "      }\n",
              "    };\n",
              "\n",
              "    // Use a chunked sending to avoid message size limits. See b/62115660.\n",
              "    let position = 0;\n",
              "    do {\n",
              "      const length = Math.min(fileData.byteLength - position, MAX_PAYLOAD_SIZE);\n",
              "      const chunk = new Uint8Array(fileData, position, length);\n",
              "      position += length;\n",
              "\n",
              "      const base64 = btoa(String.fromCharCode.apply(null, chunk));\n",
              "      yield {\n",
              "        response: {\n",
              "          action: 'append',\n",
              "          file: file.name,\n",
              "          data: base64,\n",
              "        },\n",
              "      };\n",
              "\n",
              "      let percentDone = fileData.byteLength === 0 ?\n",
              "          100 :\n",
              "          Math.round((position / fileData.byteLength) * 100);\n",
              "      percent.textContent = `${percentDone}% done`;\n",
              "\n",
              "    } while (position < fileData.byteLength);\n",
              "  }\n",
              "\n",
              "  // All done.\n",
              "  yield {\n",
              "    response: {\n",
              "      action: 'complete',\n",
              "    }\n",
              "  };\n",
              "}\n",
              "\n",
              "scope.google = scope.google || {};\n",
              "scope.google.colab = scope.google.colab || {};\n",
              "scope.google.colab._files = {\n",
              "  _uploadFiles,\n",
              "  _uploadFilesContinue,\n",
              "};\n",
              "})(self);\n",
              "</script> "
            ]
          },
          "metadata": {}
        },
        {
          "output_type": "stream",
          "name": "stdout",
          "text": [
            "Saving movies.csv to movies (1).csv\n",
            "Saving ratings.csv to ratings (1).csv\n"
          ]
        }
      ]
    },
    {
      "cell_type": "code",
      "source": [
        "movies = pd.read_csv('movies.csv')\n",
        "ratings = pd.read_csv('ratings.csv')"
      ],
      "metadata": {
        "id": "10VuIu5wKg-n"
      },
      "execution_count": 13,
      "outputs": []
    },
    {
      "cell_type": "code",
      "source": [
        "data = pd.merge(ratings, movies, on='movieId')"
      ],
      "metadata": {
        "id": "vTXxcXWnKjzi"
      },
      "execution_count": 14,
      "outputs": []
    },
    {
      "cell_type": "code",
      "source": [
        "def filter_movies_by_genre(data, genre):\n",
        "    return data[data['genres'].str.contains(genre, case=False, na=False)]\n"
      ],
      "metadata": {
        "id": "cMuKRoiPKmeG"
      },
      "execution_count": 15,
      "outputs": []
    },
    {
      "cell_type": "code",
      "source": [
        "def create_user_item_matrix(data):\n",
        "    user_item_matrix = data.pivot_table(index='userId', columns='title', values='rating')\n",
        "    user_item_matrix.fillna(0, inplace=True)\n",
        "    return user_item_matrix"
      ],
      "metadata": {
        "id": "Bl7qwvMVKoMm"
      },
      "execution_count": 16,
      "outputs": []
    },
    {
      "cell_type": "code",
      "source": [
        "# Function to build and train the autoencoder model\n",
        "def build_autoencoder(input_dim):\n",
        "    input_layer = Input(shape=(input_dim,))\n",
        "    encoded = Dense(128, activation='relu')(input_layer)\n",
        "    encoded = Dense(64, activation='relu')(encoded)\n",
        "    encoded = Dense(32, activation='relu')(encoded)\n",
        "    decoded = Dense(64, activation='relu')(encoded)\n",
        "    decoded = Dense(128, activation='relu')(decoded)\n",
        "    decoded = Dense(input_dim, activation='sigmoid')(decoded)\n",
        "    autoencoder = Model(input_layer, decoded)\n",
        "    autoencoder.compile(optimizer=Adam(lr=0.001), loss='mean_squared_error')\n",
        "    return autoencoder"
      ],
      "metadata": {
        "id": "FDhDsmlyKqF8"
      },
      "execution_count": 17,
      "outputs": []
    },
    {
      "cell_type": "code",
      "source": [
        "from sklearn.metrics import mean_squared_error"
      ],
      "metadata": {
        "id": "OIN-3RFRPBAJ"
      },
      "execution_count": 21,
      "outputs": []
    },
    {
      "cell_type": "code",
      "source": [
        " #Function to make movie recommendations within a genre\n",
        "def recommend_movies(user_id, genre, n_recommendations):\n",
        "    filtered_data = filter_movies_by_genre(data, genre)\n",
        "    user_item_matrix = create_user_item_matrix(filtered_data)\n",
        "\n",
        "    # Normalize the user-item matrix\n",
        "    user_item_matrix_norm = user_item_matrix / user_item_matrix.max().max()\n",
        "\n",
        "    # Split the data into training and test sets\n",
        "    train_data, test_data = train_test_split(user_item_matrix_norm, test_size=0.2, random_state=42)\n",
        "\n",
        "    # Build and train the autoencoder\n",
        "    input_dim = user_item_matrix.shape[1]\n",
        "    autoencoder = build_autoencoder(input_dim)\n",
        "    history = autoencoder.fit(train_data, train_data, epochs=50, batch_size=256, shuffle=True, validation_data=(test_data, test_data), verbose=1)\n",
        "\n",
        "    # Print the model performance\n",
        "    train_loss = history.history['loss']\n",
        "    val_loss = history.history['val_loss']\n",
        "    print(\"Final training loss:\", train_loss[-1])\n",
        "    print(\"Final validation loss:\", val_loss[-1])\n",
        "\n",
        "    # Calculate and print RMSE for training and validation sets\n",
        "    train_predictions = autoencoder.predict(train_data)\n",
        "    val_predictions = autoencoder.predict(test_data)\n",
        "    train_rmse = np.sqrt(mean_squared_error(train_data.values.flatten(), train_predictions.flatten()))\n",
        "    val_rmse = np.sqrt(mean_squared_error(test_data.values.flatten(), val_predictions.flatten()))\n",
        "    print(\"Training RMSE:\", train_rmse)\n",
        "    print(\"Validation RMSE:\", val_rmse)\n",
        "\n",
        "    # Get the user's ratings\n",
        "    user_ratings = user_item_matrix_norm.loc[user_id].values.reshape(1, -1)\n",
        "\n",
        "    # Predict the ratings using the autoencoder\n",
        "    predicted_ratings = autoencoder.predict(user_ratings)\n",
        "\n",
        "    # Get the top N recommendations\n",
        "    recommendations = []\n",
        "    for i in np.argsort(predicted_ratings[0])[::-1][:n_recommendations]:\n",
        "        recommendations.append(user_item_matrix.columns[i])\n",
        "\n",
        "    return recommendations"
      ],
      "metadata": {
        "id": "H_sA7ZSPMgO0"
      },
      "execution_count": 22,
      "outputs": []
    },
    {
      "cell_type": "code",
      "source": [
        "preferred_genre = input(\"Enter your preferred genre: \")\n",
        "user_id = 1  # For example, user ID 1\n",
        "recommended_movies = recommend_movies(user_id, preferred_genre, 5)\n",
        "print(\"Recommended movies:\", recommended_movies)"
      ],
      "metadata": {
        "colab": {
          "base_uri": "https://localhost:8080/"
        },
        "id": "7gYfXaq1Kr2x",
        "outputId": "d35c0f74-3109-4512-ed22-c856a1225524"
      },
      "execution_count": 23,
      "outputs": [
        {
          "name": "stdout",
          "output_type": "stream",
          "text": [
            "Enter your preferred genre: War\n"
          ]
        },
        {
          "output_type": "stream",
          "name": "stderr",
          "text": [
            "WARNING:absl:`lr` is deprecated in Keras optimizer, please use `learning_rate` or use the legacy optimizer, e.g.,tf.keras.optimizers.legacy.Adam.\n"
          ]
        },
        {
          "output_type": "stream",
          "name": "stdout",
          "text": [
            "Epoch 1/50\n",
            "2/2 [==============================] - 1s 229ms/step - loss: 0.2467 - val_loss: 0.2447\n",
            "Epoch 2/50\n",
            "2/2 [==============================] - 0s 37ms/step - loss: 0.2454 - val_loss: 0.2427\n",
            "Epoch 3/50\n",
            "2/2 [==============================] - 0s 37ms/step - loss: 0.2433 - val_loss: 0.2395\n",
            "Epoch 4/50\n",
            "2/2 [==============================] - 0s 38ms/step - loss: 0.2401 - val_loss: 0.2347\n",
            "Epoch 5/50\n",
            "2/2 [==============================] - 0s 37ms/step - loss: 0.2351 - val_loss: 0.2274\n",
            "Epoch 6/50\n",
            "2/2 [==============================] - 0s 40ms/step - loss: 0.2278 - val_loss: 0.2168\n",
            "Epoch 7/50\n",
            "2/2 [==============================] - 0s 51ms/step - loss: 0.2172 - val_loss: 0.2021\n",
            "Epoch 8/50\n",
            "2/2 [==============================] - 0s 40ms/step - loss: 0.2026 - val_loss: 0.1827\n",
            "Epoch 9/50\n",
            "2/2 [==============================] - 0s 38ms/step - loss: 0.1829 - val_loss: 0.1587\n",
            "Epoch 10/50\n",
            "2/2 [==============================] - 0s 41ms/step - loss: 0.1586 - val_loss: 0.1309\n",
            "Epoch 11/50\n",
            "2/2 [==============================] - 0s 39ms/step - loss: 0.1298 - val_loss: 0.1015\n",
            "Epoch 12/50\n",
            "2/2 [==============================] - 0s 41ms/step - loss: 0.0993 - val_loss: 0.0734\n",
            "Epoch 13/50\n",
            "2/2 [==============================] - 0s 48ms/step - loss: 0.0699 - val_loss: 0.0498\n",
            "Epoch 14/50\n",
            "2/2 [==============================] - 0s 65ms/step - loss: 0.0464 - val_loss: 0.0331\n",
            "Epoch 15/50\n",
            "2/2 [==============================] - 0s 52ms/step - loss: 0.0298 - val_loss: 0.0233\n",
            "Epoch 16/50\n",
            "2/2 [==============================] - 0s 52ms/step - loss: 0.0205 - val_loss: 0.0184\n",
            "Epoch 17/50\n",
            "2/2 [==============================] - 0s 56ms/step - loss: 0.0159 - val_loss: 0.0161\n",
            "Epoch 18/50\n",
            "2/2 [==============================] - 0s 66ms/step - loss: 0.0141 - val_loss: 0.0152\n",
            "Epoch 19/50\n",
            "2/2 [==============================] - 0s 39ms/step - loss: 0.0133 - val_loss: 0.0147\n",
            "Epoch 20/50\n",
            "2/2 [==============================] - 0s 38ms/step - loss: 0.0129 - val_loss: 0.0146\n",
            "Epoch 21/50\n",
            "2/2 [==============================] - 0s 41ms/step - loss: 0.0128 - val_loss: 0.0146\n",
            "Epoch 22/50\n",
            "2/2 [==============================] - 0s 39ms/step - loss: 0.0128 - val_loss: 0.0146\n",
            "Epoch 23/50\n",
            "2/2 [==============================] - 0s 55ms/step - loss: 0.0127 - val_loss: 0.0146\n",
            "Epoch 24/50\n",
            "2/2 [==============================] - 0s 41ms/step - loss: 0.0127 - val_loss: 0.0146\n",
            "Epoch 25/50\n",
            "2/2 [==============================] - 0s 39ms/step - loss: 0.0127 - val_loss: 0.0145\n",
            "Epoch 26/50\n",
            "2/2 [==============================] - 0s 39ms/step - loss: 0.0127 - val_loss: 0.0144\n",
            "Epoch 27/50\n",
            "2/2 [==============================] - 0s 38ms/step - loss: 0.0127 - val_loss: 0.0144\n",
            "Epoch 28/50\n",
            "2/2 [==============================] - 0s 42ms/step - loss: 0.0127 - val_loss: 0.0145\n",
            "Epoch 29/50\n",
            "2/2 [==============================] - 0s 71ms/step - loss: 0.0127 - val_loss: 0.0145\n",
            "Epoch 30/50\n",
            "2/2 [==============================] - 0s 48ms/step - loss: 0.0127 - val_loss: 0.0145\n",
            "Epoch 31/50\n",
            "2/2 [==============================] - 0s 48ms/step - loss: 0.0127 - val_loss: 0.0144\n",
            "Epoch 32/50\n",
            "2/2 [==============================] - 0s 46ms/step - loss: 0.0127 - val_loss: 0.0144\n",
            "Epoch 33/50\n",
            "2/2 [==============================] - 0s 40ms/step - loss: 0.0127 - val_loss: 0.0145\n",
            "Epoch 34/50\n",
            "2/2 [==============================] - 0s 39ms/step - loss: 0.0127 - val_loss: 0.0145\n",
            "Epoch 35/50\n",
            "2/2 [==============================] - 0s 44ms/step - loss: 0.0127 - val_loss: 0.0144\n",
            "Epoch 36/50\n",
            "2/2 [==============================] - 0s 40ms/step - loss: 0.0127 - val_loss: 0.0144\n",
            "Epoch 37/50\n",
            "2/2 [==============================] - 0s 40ms/step - loss: 0.0127 - val_loss: 0.0144\n",
            "Epoch 38/50\n",
            "2/2 [==============================] - 0s 39ms/step - loss: 0.0126 - val_loss: 0.0145\n",
            "Epoch 39/50\n",
            "2/2 [==============================] - 0s 46ms/step - loss: 0.0127 - val_loss: 0.0144\n",
            "Epoch 40/50\n",
            "2/2 [==============================] - 0s 40ms/step - loss: 0.0127 - val_loss: 0.0144\n",
            "Epoch 41/50\n",
            "2/2 [==============================] - 0s 38ms/step - loss: 0.0126 - val_loss: 0.0144\n",
            "Epoch 42/50\n",
            "2/2 [==============================] - 0s 40ms/step - loss: 0.0127 - val_loss: 0.0145\n",
            "Epoch 43/50\n",
            "2/2 [==============================] - 0s 39ms/step - loss: 0.0126 - val_loss: 0.0144\n",
            "Epoch 44/50\n",
            "2/2 [==============================] - 0s 45ms/step - loss: 0.0126 - val_loss: 0.0144\n",
            "Epoch 45/50\n",
            "2/2 [==============================] - 0s 50ms/step - loss: 0.0126 - val_loss: 0.0144\n",
            "Epoch 46/50\n",
            "2/2 [==============================] - 0s 46ms/step - loss: 0.0126 - val_loss: 0.0144\n",
            "Epoch 47/50\n",
            "2/2 [==============================] - 0s 47ms/step - loss: 0.0126 - val_loss: 0.0144\n",
            "Epoch 48/50\n",
            "2/2 [==============================] - 0s 50ms/step - loss: 0.0127 - val_loss: 0.0143\n",
            "Epoch 49/50\n",
            "2/2 [==============================] - 0s 47ms/step - loss: 0.0126 - val_loss: 0.0144\n",
            "Epoch 50/50\n",
            "2/2 [==============================] - 0s 46ms/step - loss: 0.0126 - val_loss: 0.0145\n",
            "Final training loss: 0.01263350062072277\n",
            "Final validation loss: 0.01450908463448286\n",
            "14/14 [==============================] - 0s 2ms/step\n",
            "4/4 [==============================] - 0s 3ms/step\n",
            "Training RMSE: 0.11240555960409926\n",
            "Validation RMSE: 0.12045366077234573\n",
            "1/1 [==============================] - 0s 79ms/step\n",
            "Recommended movies: ['Forrest Gump (1994)', \"Schindler's List (1993)\", 'Saving Private Ryan (1998)', 'Braveheart (1995)', 'Henry V (1989)']\n"
          ]
        }
      ]
    },
    {
      "cell_type": "code",
      "source": [],
      "metadata": {
        "id": "LOP6jPC8Krzh"
      },
      "execution_count": null,
      "outputs": []
    }
  ]
}